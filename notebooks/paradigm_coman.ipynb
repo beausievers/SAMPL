{
 "cells": [
  {
   "cell_type": "code",
   "execution_count": 4,
   "metadata": {},
   "outputs": [
    {
     "name": "stdout",
     "output_type": "stream",
     "text": [
      "The autoreload extension is already loaded. To reload it, use:\n",
      "  %reload_ext autoreload\n"
     ]
    }
   ],
   "source": [
    "%matplotlib inline\n",
    "%load_ext autoreload\n",
    "%autoreload 2\n",
    "\n",
    "import sys\n",
    "sys.path.insert(1, '../')\n",
    "\n",
    "import copy\n",
    "import itertools\n",
    "import random\n",
    "import time\n",
    "\n",
    "import gensim\n",
    "import numpy as np\n",
    "import matplotlib\n",
    "import matplotlib.pyplot as plt\n",
    "import seaborn as sns\n",
    "import scipy.spatial.distance as dist\n",
    "from scipy.sparse import csgraph\n",
    "from scipy.stats import bayes_mvs\n",
    "from scipy.stats import ttest_ind\n",
    "import pandas as pd\n",
    "\n",
    "import networkx as nx\n",
    "\n",
    "from joblib import Parallel, delayed\n",
    "\n",
    "import sampl.gsn_api as gsn\n",
    "import sampl.semantics as sem\n",
    "import sampl.update as update\n",
    "import sampl.agent as agent\n",
    "import sampl.paradigm_coman as coman"
   ]
  },
  {
   "cell_type": "code",
   "execution_count": 6,
   "metadata": {},
   "outputs": [],
   "source": [
    "costs = np.load(file='../grid_search_results/costs_coman_2019-04-15.npy')"
   ]
  },
  {
   "cell_type": "code",
   "execution_count": 7,
   "metadata": {},
   "outputs": [],
   "source": [
    "def plot_results_no_compare(results):\n",
    "    sns.set_style('ticks')\n",
    "    print(\"Calculating convergence...\")\n",
    "    co_df = coman.convergence_df(results, add_source=True)\n",
    "    print(\"Calculating alignment...\")\n",
    "    al_df = coman.alignment_df(results, add_source=True)\n",
    "\n",
    "    fig, ((ax1, ax2), (ax3, ax4)) = plt.subplots(2, 2, figsize=(8, 6))\n",
    "    sns.barplot(data=co_df[co_df['Condition'] == 'Clustered'], x='Time', y='Convergence', hue='Source', ax=ax1)\n",
    "    sns.barplot(data=co_df[co_df['Condition'] == 'Non-clustered'], x='Time', y='Convergence', hue='Source', ax=ax2)\n",
    "    ax1.set_title(\"Clustered\")\n",
    "    ax2.set_title(\"Non-clustered\")\n",
    "\n",
    "    sns.barplot(data=al_df[al_df['Condition'] == 'Clustered'], x='Hops', y='Alignment', hue='Source', ax=ax3)\n",
    "    sns.barplot(data=al_df[al_df['Condition'] == 'Non-clustered'], x='Hops', y='Alignment', hue='Source', ax=ax4)\n",
    "\n",
    "    sns.despine()    \n",
    "    plt.tight_layout()"
   ]
  },
  {
   "cell_type": "code",
   "execution_count": 8,
   "metadata": {},
   "outputs": [],
   "source": [
    "def plot_results(results, plot_cmdg=True, sim_title=\"Simulation\", title=None):\n",
    "    sns.set(font_scale=1.6)\n",
    "    sns.set_style('ticks')\n",
    "    print(\"Calculating convergence...\")\n",
    "    co_df = coman.convergence_df(results, add_source=True)\n",
    "    print(\"Calculating alignment...\")\n",
    "    al_df = coman.alignment_df(results, add_source=True)\n",
    "    \n",
    "    co_df_t = co_df[co_df['Source'] == 'CMDG 2016']\n",
    "    co_df_s = co_df[co_df['Source'] == 'Simulation']\n",
    "    \n",
    "    al_df_t = al_df[al_df['Source'] == 'CMDG 2016']\n",
    "    al_df_s = al_df[al_df['Source'] == 'Simulation']\n",
    "    \n",
    "    c_sim = sns.color_palette()[0]\n",
    "    c_tar = sns.color_palette()[1]\n",
    "\n",
    "    if plot_cmdg:\n",
    "        fig, ((ax1, ax2, ax3, ax4), (ax5, ax6, ax7, ax8)) = plt.subplots(2, 4, figsize=(12, 6))\n",
    "    else:\n",
    "        fig, ((ax1, ax2), (ax5, ax6)) = plt.subplots(2, 2, figsize=(6, 6))\n",
    "\n",
    "    sns.barplot(data=co_df_s[co_df_s['Condition'] == 'Clustered'], x='Time', y='Convergence', order=['Before', 'After'], color=c_sim, ax=ax1)\n",
    "    sns.barplot(data=co_df_s[co_df_s['Condition'] == 'Non-clustered'], x='Time', y='Convergence', order=['Before', 'After'], color=c_sim, ax=ax2)\n",
    "    if plot_cmdg:\n",
    "        sns.barplot(data=co_df_t[co_df_t['Condition'] == 'Clustered'], x='Time', y='Convergence', order=['Before', 'After'], color=c_tar, ax=ax3)\n",
    "        sns.barplot(data=co_df_t[co_df_t['Condition'] == 'Non-clustered'], x='Time', y='Convergence', order=['Before', 'After'], color=c_tar, ax=ax4)\n",
    "\n",
    "    sns.barplot(data=al_df_s[al_df_s['Condition'] == 'Clustered'], x='Hops', y='Alignment', color=c_sim, ax=ax5)\n",
    "    sns.barplot(data=al_df_s[al_df_s['Condition'] == 'Non-clustered'], x='Hops', y='Alignment', color=c_sim, ax=ax6)\n",
    "    if plot_cmdg:\n",
    "        sns.barplot(data=al_df_t[al_df_t['Condition'] == 'Clustered'], x='Hops', y='Alignment', color=c_tar, ax=ax7)\n",
    "        sns.barplot(data=al_df_t[al_df_t['Condition'] == 'Non-clustered'], x='Hops', y='Alignment', color=c_tar, ax=ax8)\n",
    "    \n",
    "    if plot_cmdg:\n",
    "        for ax in [ax5, ax6, ax7, ax8]:\n",
    "            ax.set_xlabel('Distance')\n",
    "    else:\n",
    "        for ax in [ax5, ax6]:\n",
    "            ax.set_xlabel('Distance')\n",
    "    \n",
    "    ax1.set_title(f\"{sim_title}\\nClustered\")\n",
    "    ax2.set_title(f\"{sim_title}\\nNon-clustered\")\n",
    "    if plot_cmdg:\n",
    "        ax3.set_title(\"CMDG 2016\\nClustered\")\n",
    "        ax4.set_title(\"CMDG 2016\\nNon-clustered\")\n",
    "    ax5.set_title(f\"{sim_title}\\nClustered\")\n",
    "    ax6.set_title(f\"{sim_title}\\nNon-clustered\")\n",
    "    if plot_cmdg:\n",
    "        ax7.set_title(\"CMDG 2016\\nClustered\")\n",
    "        ax8.set_title(\"CMDG 2016\\nNon-clustered\")\n",
    "    \n",
    "    if title is not None:\n",
    "        fig.suptitle(title)\n",
    "\n",
    "    sns.despine()    \n",
    "    plt.tight_layout()\n",
    "    \n",
    "def plot_func(op_win, ax=None):\n",
    "    xs = np.linspace(0, 1., 101)\n",
    "    ys = op_win.update_fx(xs)\n",
    "    if ax is None:\n",
    "        fig, ax = plt.subplots()\n",
    "    ax.plot(xs, ys)\n",
    "    ax.set_xlabel('Activation strength')\n",
    "    ax.set_ylabel('Weight change')\n",
    "    ax.set_title('Non-monotonic plasticity function')\n",
    "    #ax.set_ylim((ax.get_ylim()[0], ax.get_ylim()[1] + .1))\n",
    "    ylim = ax.get_ylim()\n",
    "    one_percent_y = (ylim[1] - ylim[0]) / 100\n",
    "    ax.text(x=0, y=ylim[1] - one_percent_y * 10, s=f\"γ (discount) = {str(round(op_win.discount, 2))}\")\n",
    "\n",
    "    sns.despine()    \n",
    "    plt.tight_layout()"
   ]
  },
  {
   "cell_type": "code",
   "execution_count": 9,
   "metadata": {},
   "outputs": [],
   "source": [
    "i = np.argsort(costs[:, 6])[0]\n",
    "params_win = costs[i, 0:6]\n",
    "y_min, y_max, dip_center, dip_width, discount, learning_rate = costs[i, 0:6].astype(np.float64).round(2)"
   ]
  },
  {
   "cell_type": "code",
   "execution_count": 10,
   "metadata": {},
   "outputs": [
    {
     "name": "stdout",
     "output_type": "stream",
     "text": [
      "-0.8 0.5 0.3 0.4 0.5 1.0\n"
     ]
    }
   ],
   "source": [
    "print(y_min, y_max, dip_center, dip_width, discount, learning_rate)"
   ]
  },
  {
   "cell_type": "code",
   "execution_count": 11,
   "metadata": {},
   "outputs": [],
   "source": [
    "result_win = coman.run_with_params(params_win, n_runs=80)"
   ]
  },
  {
   "cell_type": "code",
   "execution_count": 12,
   "metadata": {},
   "outputs": [
    {
     "data": {
      "text/plain": [
       "0.17023571639647003"
      ]
     },
     "execution_count": 12,
     "metadata": {},
     "output_type": "execute_result"
    }
   ],
   "source": [
    "cost_win = coman.cost(result_win)[0]\n",
    "cost_win"
   ]
  },
  {
   "cell_type": "code",
   "execution_count": 13,
   "metadata": {},
   "outputs": [
    {
     "data": {
      "image/png": "[encoded data removed]",
      "text/plain": [
       "<Figure size 432x288 with 1 Axes>"
      ]
     },
     "metadata": {
      "needs_background": "light"
     },
     "output_type": "display_data"
    }
   ],
   "source": [
    "#fig, ax = plt.subplots(figsize=(4,4))\n",
    "plot_func(result_win[0]['agents_clustered_before'][0].op)"
   ]
  },
  {
   "cell_type": "code",
   "execution_count": 14,
   "metadata": {},
   "outputs": [
    {
     "name": "stdout",
     "output_type": "stream",
     "text": [
      "Calculating convergence...\n",
      "Calculating alignment...\n"
     ]
    },
    {
     "data": {
      "image/png": "[encoded data removed]",
      "text/plain": [
       "<Figure size 864x432 with 8 Axes>"
      ]
     },
     "metadata": {},
     "output_type": "display_data"
    }
   ],
   "source": [
    "plot_results(result_win)"
   ]
  },
  {
   "cell_type": "code",
   "execution_count": 15,
   "metadata": {},
   "outputs": [
    {
     "name": "stdout",
     "output_type": "stream",
     "text": [
      "Calculating convergence...\n",
      "Calculating alignment...\n"
     ]
    }
   ],
   "source": [
    "print(\"Calculating convergence...\")\n",
    "co_df = coman.convergence_df(result_win, add_source=True)\n",
    "print(\"Calculating alignment...\")\n",
    "al_df = coman.alignment_df(result_win, add_source=True)\n",
    "\n",
    "co_df_t = co_df[co_df['Source'] == 'CMDG 2016']\n",
    "co_df_s = co_df[co_df['Source'] == 'Simulation']\n",
    "\n",
    "al_df_t = al_df[al_df['Source'] == 'CMDG 2016']\n",
    "al_df_s = al_df[al_df['Source'] == 'Simulation']"
   ]
  },
  {
   "cell_type": "code",
   "execution_count": 16,
   "metadata": {},
   "outputs": [
    {
     "data": {
      "text/html": [
       "<div>\n",
       "<style scoped>\n",
       "    .dataframe tbody tr th:only-of-type {\n",
       "        vertical-align: middle;\n",
       "    }\n",
       "\n",
       "    .dataframe tbody tr th {\n",
       "        vertical-align: top;\n",
       "    }\n",
       "\n",
       "    .dataframe thead th {\n",
       "        text-align: right;\n",
       "    }\n",
       "</style>\n",
       "<table border=\"1\" class=\"dataframe\">\n",
       "  <thead>\n",
       "    <tr style=\"text-align: right;\">\n",
       "      <th></th>\n",
       "      <th>Convergence</th>\n",
       "      <th>Time</th>\n",
       "      <th>Condition</th>\n",
       "      <th>Source</th>\n",
       "    </tr>\n",
       "  </thead>\n",
       "  <tbody>\n",
       "    <tr>\n",
       "      <th>320</th>\n",
       "      <td>0.660</td>\n",
       "      <td>After</td>\n",
       "      <td>Non-clustered</td>\n",
       "      <td>CMDG 2016</td>\n",
       "    </tr>\n",
       "    <tr>\n",
       "      <th>321</th>\n",
       "      <td>0.570</td>\n",
       "      <td>Before</td>\n",
       "      <td>Non-clustered</td>\n",
       "      <td>CMDG 2016</td>\n",
       "    </tr>\n",
       "    <tr>\n",
       "      <th>322</th>\n",
       "      <td>0.606</td>\n",
       "      <td>After</td>\n",
       "      <td>Clustered</td>\n",
       "      <td>CMDG 2016</td>\n",
       "    </tr>\n",
       "    <tr>\n",
       "      <th>323</th>\n",
       "      <td>0.546</td>\n",
       "      <td>Before</td>\n",
       "      <td>Clustered</td>\n",
       "      <td>CMDG 2016</td>\n",
       "    </tr>\n",
       "  </tbody>\n",
       "</table>\n",
       "</div>"
      ],
      "text/plain": [
       "     Convergence    Time      Condition     Source\n",
       "320        0.660   After  Non-clustered  CMDG 2016\n",
       "321        0.570  Before  Non-clustered  CMDG 2016\n",
       "322        0.606   After      Clustered  CMDG 2016\n",
       "323        0.546  Before      Clustered  CMDG 2016"
      ]
     },
     "execution_count": 16,
     "metadata": {},
     "output_type": "execute_result"
    }
   ],
   "source": [
    "co_df_t.head()"
   ]
  },
  {
   "cell_type": "code",
   "execution_count": 17,
   "metadata": {},
   "outputs": [],
   "source": [
    "cl_after = co_df_s[(co_df_s['Time'] == 'After') & (co_df_s['Condition'] == 'Clustered')]['Convergence'].values\n",
    "cl_before = co_df_s[(co_df_s['Time'] == 'Before') & (co_df_s['Condition'] == 'Clustered')]['Convergence'].values\n",
    "ncl_after = co_df_s[(co_df_s['Time'] == 'After') & (co_df_s['Condition'] == 'Non-clustered')]['Convergence'].values\n",
    "ncl_before = co_df_s[(co_df_s['Time'] == 'Before') & (co_df_s['Condition'] == 'Non-clustered')]['Convergence'].values"
   ]
  },
  {
   "cell_type": "code",
   "execution_count": 18,
   "metadata": {},
   "outputs": [
    {
     "data": {
      "text/plain": [
       "Mean(statistic=0.7606879709208455, minmax=(0.7492020852770511, 0.7721738565646399))"
      ]
     },
     "execution_count": 18,
     "metadata": {},
     "output_type": "execute_result"
    }
   ],
   "source": [
    "bayes_mvs(cl_after)[0]"
   ]
  },
  {
   "cell_type": "code",
   "execution_count": 19,
   "metadata": {},
   "outputs": [
    {
     "data": {
      "text/plain": [
       "Mean(statistic=0.2344904504112384, minmax=(0.2279876357321024, 0.2409932650903744))"
      ]
     },
     "execution_count": 19,
     "metadata": {},
     "output_type": "execute_result"
    }
   ],
   "source": [
    "bayes_mvs(cl_before)[0]"
   ]
  },
  {
   "cell_type": "code",
   "execution_count": 20,
   "metadata": {},
   "outputs": [
    {
     "data": {
      "text/plain": [
       "Mean(statistic=0.796431914241764, minmax=(0.7872978461953194, 0.8055659822882085))"
      ]
     },
     "execution_count": 20,
     "metadata": {},
     "output_type": "execute_result"
    }
   ],
   "source": [
    "bayes_mvs(ncl_after)[0]"
   ]
  },
  {
   "cell_type": "code",
   "execution_count": 21,
   "metadata": {},
   "outputs": [
    {
     "data": {
      "text/plain": [
       "Mean(statistic=0.2344904504112384, minmax=(0.2279876357321024, 0.2409932650903744))"
      ]
     },
     "execution_count": 21,
     "metadata": {},
     "output_type": "execute_result"
    }
   ],
   "source": [
    "bayes_mvs(ncl_before)[0]"
   ]
  },
  {
   "cell_type": "code",
   "execution_count": 22,
   "metadata": {},
   "outputs": [
    {
     "data": {
      "text/plain": [
       "Ttest_indResult(statistic=66.35288364007371, pvalue=2.9199446532575914e-99)"
      ]
     },
     "execution_count": 22,
     "metadata": {},
     "output_type": "execute_result"
    }
   ],
   "source": [
    "ttest_ind(\n",
    "    cl_after,\n",
    "    cl_before,\n",
    "    equal_var=False\n",
    ")"
   ]
  },
  {
   "cell_type": "code",
   "execution_count": 23,
   "metadata": {},
   "outputs": [
    {
     "data": {
      "text/plain": [
       "Ttest_indResult(statistic=83.41476732989777, pvalue=5.587319439141964e-123)"
      ]
     },
     "execution_count": 23,
     "metadata": {},
     "output_type": "execute_result"
    }
   ],
   "source": [
    "ttest_ind(\n",
    "    ncl_after,\n",
    "    ncl_before,\n",
    "    equal_var=False\n",
    ")"
   ]
  },
  {
   "cell_type": "code",
   "execution_count": 24,
   "metadata": {},
   "outputs": [
    {
     "data": {
      "text/plain": [
       "158"
      ]
     },
     "execution_count": 24,
     "metadata": {},
     "output_type": "execute_result"
    }
   ],
   "source": [
    "dof = (\n",
    "    len(cl_after) + \n",
    "    len(cl_before) - 2\n",
    ")\n",
    "dof"
   ]
  },
  {
   "cell_type": "code",
   "execution_count": 25,
   "metadata": {},
   "outputs": [
    {
     "data": {
      "text/plain": [
       "158"
      ]
     },
     "execution_count": 25,
     "metadata": {},
     "output_type": "execute_result"
    }
   ],
   "source": [
    "dof = (\n",
    "    len(ncl_after) + \n",
    "    len(ncl_before) - 2\n",
    ")\n",
    "dof"
   ]
  },
  {
   "cell_type": "code",
   "execution_count": 26,
   "metadata": {},
   "outputs": [
    {
     "data": {
      "text/plain": [
       "Ttest_indResult(statistic=4.053903878908478, pvalue=8.055236643875298e-05)"
      ]
     },
     "execution_count": 26,
     "metadata": {},
     "output_type": "execute_result"
    }
   ],
   "source": [
    "ttest_ind(\n",
    "    ncl_after,\n",
    "    cl_after,\n",
    "    equal_var=False\n",
    ")"
   ]
  },
  {
   "cell_type": "code",
   "execution_count": 27,
   "metadata": {},
   "outputs": [],
   "source": [
    "import statsmodels.api as sm"
   ]
  },
  {
   "cell_type": "code",
   "execution_count": 28,
   "metadata": {},
   "outputs": [
    {
     "data": {
      "text/html": [
       "<div>\n",
       "<style scoped>\n",
       "    .dataframe tbody tr th:only-of-type {\n",
       "        vertical-align: middle;\n",
       "    }\n",
       "\n",
       "    .dataframe tbody tr th {\n",
       "        vertical-align: top;\n",
       "    }\n",
       "\n",
       "    .dataframe thead th {\n",
       "        text-align: right;\n",
       "    }\n",
       "</style>\n",
       "<table border=\"1\" class=\"dataframe\">\n",
       "  <thead>\n",
       "    <tr style=\"text-align: right;\">\n",
       "      <th></th>\n",
       "      <th>Alignment</th>\n",
       "      <th>Hops</th>\n",
       "      <th>Condition</th>\n",
       "      <th>Source</th>\n",
       "    </tr>\n",
       "  </thead>\n",
       "  <tbody>\n",
       "    <tr>\n",
       "      <th>0</th>\n",
       "      <td>0.766129</td>\n",
       "      <td>1</td>\n",
       "      <td>Clustered</td>\n",
       "      <td>Simulation</td>\n",
       "    </tr>\n",
       "    <tr>\n",
       "      <th>1</th>\n",
       "      <td>0.149820</td>\n",
       "      <td>1</td>\n",
       "      <td>Clustered</td>\n",
       "      <td>Simulation</td>\n",
       "    </tr>\n",
       "    <tr>\n",
       "      <th>2</th>\n",
       "      <td>0.972316</td>\n",
       "      <td>1</td>\n",
       "      <td>Clustered</td>\n",
       "      <td>Simulation</td>\n",
       "    </tr>\n",
       "    <tr>\n",
       "      <th>3</th>\n",
       "      <td>0.716939</td>\n",
       "      <td>2</td>\n",
       "      <td>Clustered</td>\n",
       "      <td>Simulation</td>\n",
       "    </tr>\n",
       "    <tr>\n",
       "      <th>4</th>\n",
       "      <td>0.401156</td>\n",
       "      <td>3</td>\n",
       "      <td>Clustered</td>\n",
       "      <td>Simulation</td>\n",
       "    </tr>\n",
       "  </tbody>\n",
       "</table>\n",
       "</div>"
      ],
      "text/plain": [
       "   Alignment  Hops  Condition      Source\n",
       "0   0.766129     1  Clustered  Simulation\n",
       "1   0.149820     1  Clustered  Simulation\n",
       "2   0.972316     1  Clustered  Simulation\n",
       "3   0.716939     2  Clustered  Simulation\n",
       "4   0.401156     3  Clustered  Simulation"
      ]
     },
     "execution_count": 28,
     "metadata": {},
     "output_type": "execute_result"
    }
   ],
   "source": [
    "al_df_s.head()"
   ]
  },
  {
   "cell_type": "code",
   "execution_count": 29,
   "metadata": {},
   "outputs": [],
   "source": [
    "al_clust = al_df_s[al_df_s['Condition'] == 'Clustered']\n",
    "al_nclust = al_df_s[al_df_s['Condition'] == 'Non-clustered']"
   ]
  },
  {
   "cell_type": "code",
   "execution_count": 30,
   "metadata": {},
   "outputs": [
    {
     "data": {
      "text/html": [
       "<table class=\"simpletable\">\n",
       "<caption>OLS Regression Results</caption>\n",
       "<tr>\n",
       "  <th>Dep. Variable:</th>            <td>y</td>        <th>  R-squared:         </th> <td>   0.259</td> \n",
       "</tr>\n",
       "<tr>\n",
       "  <th>Model:</th>                   <td>OLS</td>       <th>  Adj. R-squared:    </th> <td>   0.259</td> \n",
       "</tr>\n",
       "<tr>\n",
       "  <th>Method:</th>             <td>Least Squares</td>  <th>  F-statistic:       </th> <td>   1258.</td> \n",
       "</tr>\n",
       "<tr>\n",
       "  <th>Date:</th>             <td>Mon, 23 Sep 2019</td> <th>  Prob (F-statistic):</th> <td>1.51e-236</td>\n",
       "</tr>\n",
       "<tr>\n",
       "  <th>Time:</th>                 <td>15:19:45</td>     <th>  Log-Likelihood:    </th> <td> -174.73</td> \n",
       "</tr>\n",
       "<tr>\n",
       "  <th>No. Observations:</th>      <td>  3600</td>      <th>  AIC:               </th> <td>   353.5</td> \n",
       "</tr>\n",
       "<tr>\n",
       "  <th>Df Residuals:</th>          <td>  3598</td>      <th>  BIC:               </th> <td>   365.8</td> \n",
       "</tr>\n",
       "<tr>\n",
       "  <th>Df Model:</th>              <td>     1</td>      <th>                     </th>     <td> </td>    \n",
       "</tr>\n",
       "<tr>\n",
       "  <th>Covariance Type:</th>      <td>nonrobust</td>    <th>                     </th>     <td> </td>    \n",
       "</tr>\n",
       "</table>\n",
       "<table class=\"simpletable\">\n",
       "<tr>\n",
       "    <td></td>       <th>coef</th>     <th>std err</th>      <th>t</th>      <th>P>|t|</th>  <th>[0.025</th>    <th>0.975]</th>  \n",
       "</tr>\n",
       "<tr>\n",
       "  <th>const</th> <td>    0.8020</td> <td>    0.009</td> <td>   90.576</td> <td> 0.000</td> <td>    0.785</td> <td>    0.819</td>\n",
       "</tr>\n",
       "<tr>\n",
       "  <th>x1</th>    <td>   -0.1118</td> <td>    0.003</td> <td>  -35.466</td> <td> 0.000</td> <td>   -0.118</td> <td>   -0.106</td>\n",
       "</tr>\n",
       "</table>\n",
       "<table class=\"simpletable\">\n",
       "<tr>\n",
       "  <th>Omnibus:</th>       <td>122.751</td> <th>  Durbin-Watson:     </th> <td>   1.665</td>\n",
       "</tr>\n",
       "<tr>\n",
       "  <th>Prob(Omnibus):</th> <td> 0.000</td>  <th>  Jarque-Bera (JB):  </th> <td> 134.801</td>\n",
       "</tr>\n",
       "<tr>\n",
       "  <th>Skew:</th>          <td>-0.471</td>  <th>  Prob(JB):          </th> <td>5.35e-30</td>\n",
       "</tr>\n",
       "<tr>\n",
       "  <th>Kurtosis:</th>      <td> 3.099</td>  <th>  Cond. No.          </th> <td>    6.46</td>\n",
       "</tr>\n",
       "</table><br/><br/>Warnings:<br/>[1] Standard Errors assume that the covariance matrix of the errors is correctly specified."
      ],
      "text/plain": [
       "<class 'statsmodels.iolib.summary.Summary'>\n",
       "\"\"\"\n",
       "                            OLS Regression Results                            \n",
       "==============================================================================\n",
       "Dep. Variable:                      y   R-squared:                       0.259\n",
       "Model:                            OLS   Adj. R-squared:                  0.259\n",
       "Method:                 Least Squares   F-statistic:                     1258.\n",
       "Date:                Mon, 23 Sep 2019   Prob (F-statistic):          1.51e-236\n",
       "Time:                        15:19:45   Log-Likelihood:                -174.73\n",
       "No. Observations:                3600   AIC:                             353.5\n",
       "Df Residuals:                    3598   BIC:                             365.8\n",
       "Df Model:                           1                                         \n",
       "Covariance Type:            nonrobust                                         \n",
       "==============================================================================\n",
       "                 coef    std err          t      P>|t|      [0.025      0.975]\n",
       "------------------------------------------------------------------------------\n",
       "const          0.8020      0.009     90.576      0.000       0.785       0.819\n",
       "x1            -0.1118      0.003    -35.466      0.000      -0.118      -0.106\n",
       "==============================================================================\n",
       "Omnibus:                      122.751   Durbin-Watson:                   1.665\n",
       "Prob(Omnibus):                  0.000   Jarque-Bera (JB):              134.801\n",
       "Skew:                          -0.471   Prob(JB):                     5.35e-30\n",
       "Kurtosis:                       3.099   Cond. No.                         6.46\n",
       "==============================================================================\n",
       "\n",
       "Warnings:\n",
       "[1] Standard Errors assume that the covariance matrix of the errors is correctly specified.\n",
       "\"\"\""
      ]
     },
     "execution_count": 30,
     "metadata": {},
     "output_type": "execute_result"
    }
   ],
   "source": [
    "X = sm.add_constant(al_clust['Hops'].values.reshape(-1, 1))\n",
    "y = al_clust['Alignment'].values\n",
    "mod = sm.OLS(y, X)\n",
    "res = mod.fit()\n",
    "res.summary()"
   ]
  },
  {
   "cell_type": "code",
   "execution_count": 31,
   "metadata": {},
   "outputs": [
    {
     "data": {
      "text/html": [
       "<table class=\"simpletable\">\n",
       "<caption>OLS Regression Results</caption>\n",
       "<tr>\n",
       "  <th>Dep. Variable:</th>            <td>y</td>        <th>  R-squared:         </th> <td>   0.123</td> \n",
       "</tr>\n",
       "<tr>\n",
       "  <th>Model:</th>                   <td>OLS</td>       <th>  Adj. R-squared:    </th> <td>   0.123</td> \n",
       "</tr>\n",
       "<tr>\n",
       "  <th>Method:</th>             <td>Least Squares</td>  <th>  F-statistic:       </th> <td>   504.7</td> \n",
       "</tr>\n",
       "<tr>\n",
       "  <th>Date:</th>             <td>Mon, 23 Sep 2019</td> <th>  Prob (F-statistic):</th> <td>1.03e-104</td>\n",
       "</tr>\n",
       "<tr>\n",
       "  <th>Time:</th>                 <td>15:19:52</td>     <th>  Log-Likelihood:    </th> <td> -478.08</td> \n",
       "</tr>\n",
       "<tr>\n",
       "  <th>No. Observations:</th>      <td>  3600</td>      <th>  AIC:               </th> <td>   960.2</td> \n",
       "</tr>\n",
       "<tr>\n",
       "  <th>Df Residuals:</th>          <td>  3598</td>      <th>  BIC:               </th> <td>   972.5</td> \n",
       "</tr>\n",
       "<tr>\n",
       "  <th>Df Model:</th>              <td>     1</td>      <th>                     </th>     <td> </td>    \n",
       "</tr>\n",
       "<tr>\n",
       "  <th>Covariance Type:</th>      <td>nonrobust</td>    <th>                     </th>     <td> </td>    \n",
       "</tr>\n",
       "</table>\n",
       "<table class=\"simpletable\">\n",
       "<tr>\n",
       "    <td></td>       <th>coef</th>     <th>std err</th>      <th>t</th>      <th>P>|t|</th>  <th>[0.025</th>    <th>0.975]</th>  \n",
       "</tr>\n",
       "<tr>\n",
       "  <th>const</th> <td>    0.7915</td> <td>    0.013</td> <td>   62.449</td> <td> 0.000</td> <td>    0.767</td> <td>    0.816</td>\n",
       "</tr>\n",
       "<tr>\n",
       "  <th>x1</th>    <td>   -0.1404</td> <td>    0.006</td> <td>  -22.466</td> <td> 0.000</td> <td>   -0.153</td> <td>   -0.128</td>\n",
       "</tr>\n",
       "</table>\n",
       "<table class=\"simpletable\">\n",
       "<tr>\n",
       "  <th>Omnibus:</th>       <td>98.052</td> <th>  Durbin-Watson:     </th> <td>   1.574</td>\n",
       "</tr>\n",
       "<tr>\n",
       "  <th>Prob(Omnibus):</th> <td> 0.000</td> <th>  Jarque-Bera (JB):  </th> <td> 105.761</td>\n",
       "</tr>\n",
       "<tr>\n",
       "  <th>Skew:</th>          <td>-0.419</td> <th>  Prob(JB):          </th> <td>1.08e-23</td>\n",
       "</tr>\n",
       "<tr>\n",
       "  <th>Kurtosis:</th>      <td> 2.936</td> <th>  Cond. No.          </th> <td>    6.79</td>\n",
       "</tr>\n",
       "</table><br/><br/>Warnings:<br/>[1] Standard Errors assume that the covariance matrix of the errors is correctly specified."
      ],
      "text/plain": [
       "<class 'statsmodels.iolib.summary.Summary'>\n",
       "\"\"\"\n",
       "                            OLS Regression Results                            \n",
       "==============================================================================\n",
       "Dep. Variable:                      y   R-squared:                       0.123\n",
       "Model:                            OLS   Adj. R-squared:                  0.123\n",
       "Method:                 Least Squares   F-statistic:                     504.7\n",
       "Date:                Mon, 23 Sep 2019   Prob (F-statistic):          1.03e-104\n",
       "Time:                        15:19:52   Log-Likelihood:                -478.08\n",
       "No. Observations:                3600   AIC:                             960.2\n",
       "Df Residuals:                    3598   BIC:                             972.5\n",
       "Df Model:                           1                                         \n",
       "Covariance Type:            nonrobust                                         \n",
       "==============================================================================\n",
       "                 coef    std err          t      P>|t|      [0.025      0.975]\n",
       "------------------------------------------------------------------------------\n",
       "const          0.7915      0.013     62.449      0.000       0.767       0.816\n",
       "x1            -0.1404      0.006    -22.466      0.000      -0.153      -0.128\n",
       "==============================================================================\n",
       "Omnibus:                       98.052   Durbin-Watson:                   1.574\n",
       "Prob(Omnibus):                  0.000   Jarque-Bera (JB):              105.761\n",
       "Skew:                          -0.419   Prob(JB):                     1.08e-23\n",
       "Kurtosis:                       2.936   Cond. No.                         6.79\n",
       "==============================================================================\n",
       "\n",
       "Warnings:\n",
       "[1] Standard Errors assume that the covariance matrix of the errors is correctly specified.\n",
       "\"\"\""
      ]
     },
     "execution_count": 31,
     "metadata": {},
     "output_type": "execute_result"
    }
   ],
   "source": [
    "X = sm.add_constant(al_nclust['Hops'].values.reshape(-1, 1))\n",
    "y = al_nclust['Alignment'].values\n",
    "mod = sm.OLS(y, X)\n",
    "res = mod.fit()\n",
    "res.summary()"
   ]
  },
  {
   "cell_type": "code",
   "execution_count": 34,
   "metadata": {},
   "outputs": [
    {
     "name": "stderr",
     "output_type": "stream",
     "text": [
      "/Users/beau/miniconda3/envs/latest/lib/python3.7/site-packages/scipy/spatial/distance.py:720: RuntimeWarning: invalid value encountered in double_scalars\n",
      "  dist = 1.0 - uv / np.sqrt(uu * vv)\n",
      "../sampl/paradigm_coman.py:404: RuntimeWarning: invalid value encountered in true_divide\n",
      "  alignment_values_p = alignment_values / alignment_values[0]\n"
     ]
    }
   ],
   "source": [
    "n_runs = 40\n",
    "\n",
    "y_min_param_sets = []\n",
    "y_min_unique = np.linspace(-1, 0, 11).round(2)\n",
    "for v in y_min_unique:\n",
    "    y_min_param_sets.append(\n",
    "        (v, y_max, dip_center, dip_width, discount, learning_rate)\n",
    "    )\n",
    "y_min_results = [coman.run_with_params(p, n_runs=n_runs) for p in y_min_param_sets]\n",
    "y_min_costs = np.array([coman.cost(r)[0] for r in y_min_results])\n",
    "    \n",
    "y_max_param_sets = []\n",
    "y_max_unique = np.linspace(0, 1, 11).round(2)\n",
    "for v in y_max_unique:\n",
    "    y_max_param_sets.append(\n",
    "        (y_min, v, dip_center, dip_width, discount, learning_rate)\n",
    "    )\n",
    "y_max_results = [coman.run_with_params(p, n_runs=n_runs) for p in y_max_param_sets]\n",
    "y_max_costs = np.array([coman.cost(r)[0] for r in y_max_results])\n",
    "\n",
    "discount_param_sets = []\n",
    "discount_unique = np.linspace(0, 1, 11).round(2)\n",
    "for v in discount_unique:\n",
    "    discount_param_sets.append(\n",
    "        (y_min, y_max, dip_center, dip_width, v, learning_rate)\n",
    "    )\n",
    "discount_results = [coman.run_with_params(p, n_runs=n_runs) for p in discount_param_sets]\n",
    "discount_costs = np.array([coman.cost(r)[0] for r in discount_results])\n",
    "\n",
    "learning_rate_param_sets = []\n",
    "learning_rate_unique = np.linspace(0, 1, 11).round(2)\n",
    "for v in learning_rate_unique:\n",
    "    learning_rate_param_sets.append(\n",
    "        (y_min, y_max, dip_center, dip_width, discount, v)\n",
    "    )\n",
    "learning_rate_results = [coman.run_with_params(p, n_runs=n_runs) for p in learning_rate_param_sets]\n",
    "learning_rate_costs = np.array([coman.cost(r)[0] for r in learning_rate_results])"
   ]
  },
  {
   "cell_type": "code",
   "execution_count": 36,
   "metadata": {},
   "outputs": [],
   "source": [
    "# Remove duplicate x and y values that result from overlap between the\n",
    "# grid search and the block above. This is because the results might differ\n",
    "# between the grid search and the block because of noise. For clarity we only\n",
    "# want to report the grid search value\n",
    "\n",
    "y_min_costs[y_min_unique == y_min] = cost_win\n",
    "y_max_costs[y_max_unique == y_max] = cost_win\n",
    "discount_costs[discount_unique == discount] = cost_win\n",
    "learning_rate_costs[learning_rate_unique == learning_rate] = cost_win"
   ]
  },
  {
   "cell_type": "code",
   "execution_count": 38,
   "metadata": {},
   "outputs": [
    {
     "data": {
      "image/png": "[encoded data removed]",
      "text/plain": [
       "<Figure size 720x216 with 4 Axes>"
      ]
     },
     "metadata": {},
     "output_type": "display_data"
    }
   ],
   "source": [
    "f, (ax1, ax2, ax3, ax4) = plt.subplots(1, 4, figsize=(10, 3))\n",
    "msize=5\n",
    "ax1.plot(y_min_unique, y_min_costs, 'o-', markersize=msize, color=sns.color_palette()[0])\n",
    "ax1.plot(y_min, cost_win, 'o', markersize=msize+.5, color=sns.color_palette()[3])\n",
    "ax1.set_xlabel('Suppression')\n",
    "ax1.set_ylabel('Cost')\n",
    "\n",
    "ax2.plot(y_max_unique, y_max_costs, 'o-', markersize=msize, color=sns.color_palette()[0])\n",
    "ax2.plot(y_max, cost_win, 'o', markersize=msize+.5, color=sns.color_palette()[3])\n",
    "ax2.set_xlabel('Enhancement')\n",
    "ax2.set_ylabel('Cost')\n",
    "\n",
    "ax3.plot(discount_unique, discount_costs, 'o-', markersize=msize, color=sns.color_palette()[0])\n",
    "ax3.plot(discount, cost_win, 'o', markersize=msize+.5, color=sns.color_palette()[3])\n",
    "ax3.set_xlabel('Discount (γ)')\n",
    "ax3.set_ylabel('Cost')\n",
    "\n",
    "ax4.plot(learning_rate_unique, learning_rate_costs, 'o-', markersize=msize, color=sns.color_palette()[0])\n",
    "ax4.plot(learning_rate, cost_win, 'o', markersize=msize+.5, color=sns.color_palette()[3])\n",
    "ax4.set_xlabel('Learning rate')\n",
    "ax4.set_ylabel('Cost')\n",
    "\n",
    "plt.tight_layout()\n",
    "sns.despine()"
   ]
  },
  {
   "cell_type": "markdown",
   "metadata": {},
   "source": [
    "## Lesion analysis"
   ]
  },
  {
   "cell_type": "code",
   "execution_count": 39,
   "metadata": {},
   "outputs": [],
   "source": [
    "params_lesion = copy.copy(params_win)\n",
    "params_lesion[0] = 0\n",
    "res_lesion = coman.run_with_params(params_lesion, n_runs=80)"
   ]
  },
  {
   "cell_type": "code",
   "execution_count": 40,
   "metadata": {},
   "outputs": [
    {
     "name": "stdout",
     "output_type": "stream",
     "text": [
      "Calculating convergence...\n",
      "Calculating alignment...\n"
     ]
    }
   ],
   "source": [
    "print(\"Calculating convergence...\")\n",
    "co_les_df = coman.convergence_df(res_lesion, add_source=True)\n",
    "print(\"Calculating alignment...\")\n",
    "al_les_df = coman.alignment_df(res_lesion, add_source=True)\n",
    "\n",
    "co_les_t = co_les_df[co_les_df['Source'] == 'CMDG 2016']\n",
    "co_les_s = co_les_df[co_les_df['Source'] == 'Simulation']\n",
    "\n",
    "al_les_t = al_les_df[al_les_df['Source'] == 'CMDG 2016']\n",
    "al_les_s = al_les_df[al_les_df['Source'] == 'Simulation']"
   ]
  },
  {
   "cell_type": "code",
   "execution_count": 41,
   "metadata": {},
   "outputs": [
    {
     "data": {
      "image/png": "[encoded data removed]",
      "text/plain": [
       "<Figure size 432x288 with 1 Axes>"
      ]
     },
     "metadata": {},
     "output_type": "display_data"
    }
   ],
   "source": [
    "plot_func(res_lesion[0]['agents_clustered_before'][0].op)"
   ]
  },
  {
   "cell_type": "code",
   "execution_count": 42,
   "metadata": {},
   "outputs": [
    {
     "name": "stdout",
     "output_type": "stream",
     "text": [
      "Calculating convergence...\n",
      "Calculating alignment...\n"
     ]
    },
    {
     "data": {
      "image/png": "[encoded data removed]",
      "text/plain": [
       "<Figure size 432x432 with 4 Axes>"
      ]
     },
     "metadata": {},
     "output_type": "display_data"
    }
   ],
   "source": [
    "plot_results(res_lesion, plot_cmdg=False, sim_title=\"\", title=\"SAMPL using a monotonic update rule\")"
   ]
  },
  {
   "cell_type": "code",
   "execution_count": 43,
   "metadata": {},
   "outputs": [],
   "source": [
    "cl_les_after = co_les_s[(co_les_s['Time'] == 'After') & (co_les_s['Condition'] == 'Clustered')]['Convergence'].values\n",
    "cl_les_before = co_les_s[(co_les_s['Time'] == 'Before') & (co_les_s['Condition'] == 'Clustered')]['Convergence'].values\n",
    "ncl_les_after = co_les_s[(co_les_s['Time'] == 'After') & (co_les_s['Condition'] == 'Non-clustered')]['Convergence'].values\n",
    "ncl_les_before = co_les_s[(co_les_s['Time'] == 'Before') & (co_les_s['Condition'] == 'Non-clustered')]['Convergence'].values"
   ]
  },
  {
   "cell_type": "code",
   "execution_count": 44,
   "metadata": {},
   "outputs": [
    {
     "data": {
      "text/plain": [
       "Ttest_indResult(statistic=0.37121869527505263, pvalue=0.7109859615528624)"
      ]
     },
     "execution_count": 44,
     "metadata": {},
     "output_type": "execute_result"
    }
   ],
   "source": [
    "ttest_ind(\n",
    "    ncl_les_after,\n",
    "    cl_les_after,\n",
    "    equal_var=False\n",
    ")"
   ]
  },
  {
   "cell_type": "code",
   "execution_count": 45,
   "metadata": {},
   "outputs": [],
   "source": [
    "al_les_clust = al_les_s[al_les_s['Condition'] == 'Clustered']\n",
    "al_les_nclust = al_les_s[al_les_s['Condition'] == 'Non-clustered']"
   ]
  },
  {
   "cell_type": "code",
   "execution_count": 46,
   "metadata": {},
   "outputs": [
    {
     "data": {
      "text/html": [
       "<table class=\"simpletable\">\n",
       "<caption>OLS Regression Results</caption>\n",
       "<tr>\n",
       "  <th>Dep. Variable:</th>            <td>y</td>        <th>  R-squared:         </th> <td>   0.001</td>\n",
       "</tr>\n",
       "<tr>\n",
       "  <th>Model:</th>                   <td>OLS</td>       <th>  Adj. R-squared:    </th> <td>   0.000</td>\n",
       "</tr>\n",
       "<tr>\n",
       "  <th>Method:</th>             <td>Least Squares</td>  <th>  F-statistic:       </th> <td>   2.188</td>\n",
       "</tr>\n",
       "<tr>\n",
       "  <th>Date:</th>             <td>Mon, 23 Sep 2019</td> <th>  Prob (F-statistic):</th>  <td> 0.139</td> \n",
       "</tr>\n",
       "<tr>\n",
       "  <th>Time:</th>                 <td>15:49:18</td>     <th>  Log-Likelihood:    </th> <td>  3687.0</td>\n",
       "</tr>\n",
       "<tr>\n",
       "  <th>No. Observations:</th>      <td>  3600</td>      <th>  AIC:               </th> <td>  -7370.</td>\n",
       "</tr>\n",
       "<tr>\n",
       "  <th>Df Residuals:</th>          <td>  3598</td>      <th>  BIC:               </th> <td>  -7358.</td>\n",
       "</tr>\n",
       "<tr>\n",
       "  <th>Df Model:</th>              <td>     1</td>      <th>                     </th>     <td> </td>   \n",
       "</tr>\n",
       "<tr>\n",
       "  <th>Covariance Type:</th>      <td>nonrobust</td>    <th>                     </th>     <td> </td>   \n",
       "</tr>\n",
       "</table>\n",
       "<table class=\"simpletable\">\n",
       "<tr>\n",
       "    <td></td>       <th>coef</th>     <th>std err</th>      <th>t</th>      <th>P>|t|</th>  <th>[0.025</th>    <th>0.975]</th>  \n",
       "</tr>\n",
       "<tr>\n",
       "  <th>const</th> <td>    0.3349</td> <td>    0.003</td> <td>  110.581</td> <td> 0.000</td> <td>    0.329</td> <td>    0.341</td>\n",
       "</tr>\n",
       "<tr>\n",
       "  <th>x1</th>    <td>   -0.0016</td> <td>    0.001</td> <td>   -1.479</td> <td> 0.139</td> <td>   -0.004</td> <td>    0.001</td>\n",
       "</tr>\n",
       "</table>\n",
       "<table class=\"simpletable\">\n",
       "<tr>\n",
       "  <th>Omnibus:</th>       <td>48.579</td> <th>  Durbin-Watson:     </th> <td>   1.976</td>\n",
       "</tr>\n",
       "<tr>\n",
       "  <th>Prob(Omnibus):</th> <td> 0.000</td> <th>  Jarque-Bera (JB):  </th> <td>  41.771</td>\n",
       "</tr>\n",
       "<tr>\n",
       "  <th>Skew:</th>          <td>-0.204</td> <th>  Prob(JB):          </th> <td>8.50e-10</td>\n",
       "</tr>\n",
       "<tr>\n",
       "  <th>Kurtosis:</th>      <td> 2.665</td> <th>  Cond. No.          </th> <td>    6.46</td>\n",
       "</tr>\n",
       "</table><br/><br/>Warnings:<br/>[1] Standard Errors assume that the covariance matrix of the errors is correctly specified."
      ],
      "text/plain": [
       "<class 'statsmodels.iolib.summary.Summary'>\n",
       "\"\"\"\n",
       "                            OLS Regression Results                            \n",
       "==============================================================================\n",
       "Dep. Variable:                      y   R-squared:                       0.001\n",
       "Model:                            OLS   Adj. R-squared:                  0.000\n",
       "Method:                 Least Squares   F-statistic:                     2.188\n",
       "Date:                Mon, 23 Sep 2019   Prob (F-statistic):              0.139\n",
       "Time:                        15:49:18   Log-Likelihood:                 3687.0\n",
       "No. Observations:                3600   AIC:                            -7370.\n",
       "Df Residuals:                    3598   BIC:                            -7358.\n",
       "Df Model:                           1                                         \n",
       "Covariance Type:            nonrobust                                         \n",
       "==============================================================================\n",
       "                 coef    std err          t      P>|t|      [0.025      0.975]\n",
       "------------------------------------------------------------------------------\n",
       "const          0.3349      0.003    110.581      0.000       0.329       0.341\n",
       "x1            -0.0016      0.001     -1.479      0.139      -0.004       0.001\n",
       "==============================================================================\n",
       "Omnibus:                       48.579   Durbin-Watson:                   1.976\n",
       "Prob(Omnibus):                  0.000   Jarque-Bera (JB):               41.771\n",
       "Skew:                          -0.204   Prob(JB):                     8.50e-10\n",
       "Kurtosis:                       2.665   Cond. No.                         6.46\n",
       "==============================================================================\n",
       "\n",
       "Warnings:\n",
       "[1] Standard Errors assume that the covariance matrix of the errors is correctly specified.\n",
       "\"\"\""
      ]
     },
     "execution_count": 46,
     "metadata": {},
     "output_type": "execute_result"
    }
   ],
   "source": [
    "X = sm.add_constant(al_les_clust['Hops'].values.reshape(-1, 1))\n",
    "y = al_les_clust['Alignment'].values\n",
    "mod = sm.OLS(y, X)\n",
    "res = mod.fit()\n",
    "res.summary()"
   ]
  },
  {
   "cell_type": "code",
   "execution_count": 47,
   "metadata": {},
   "outputs": [
    {
     "data": {
      "text/html": [
       "<table class=\"simpletable\">\n",
       "<caption>OLS Regression Results</caption>\n",
       "<tr>\n",
       "  <th>Dep. Variable:</th>            <td>y</td>        <th>  R-squared:         </th> <td>   0.001</td>\n",
       "</tr>\n",
       "<tr>\n",
       "  <th>Model:</th>                   <td>OLS</td>       <th>  Adj. R-squared:    </th> <td>   0.001</td>\n",
       "</tr>\n",
       "<tr>\n",
       "  <th>Method:</th>             <td>Least Squares</td>  <th>  F-statistic:       </th> <td>   3.375</td>\n",
       "</tr>\n",
       "<tr>\n",
       "  <th>Date:</th>             <td>Mon, 23 Sep 2019</td> <th>  Prob (F-statistic):</th>  <td>0.0663</td> \n",
       "</tr>\n",
       "<tr>\n",
       "  <th>Time:</th>                 <td>15:49:18</td>     <th>  Log-Likelihood:    </th> <td>  3687.6</td>\n",
       "</tr>\n",
       "<tr>\n",
       "  <th>No. Observations:</th>      <td>  3600</td>      <th>  AIC:               </th> <td>  -7371.</td>\n",
       "</tr>\n",
       "<tr>\n",
       "  <th>Df Residuals:</th>          <td>  3598</td>      <th>  BIC:               </th> <td>  -7359.</td>\n",
       "</tr>\n",
       "<tr>\n",
       "  <th>Df Model:</th>              <td>     1</td>      <th>                     </th>     <td> </td>   \n",
       "</tr>\n",
       "<tr>\n",
       "  <th>Covariance Type:</th>      <td>nonrobust</td>    <th>                     </th>     <td> </td>   \n",
       "</tr>\n",
       "</table>\n",
       "<table class=\"simpletable\">\n",
       "<tr>\n",
       "    <td></td>       <th>coef</th>     <th>std err</th>      <th>t</th>      <th>P>|t|</th>  <th>[0.025</th>    <th>0.975]</th>  \n",
       "</tr>\n",
       "<tr>\n",
       "  <th>const</th> <td>    0.3378</td> <td>    0.004</td> <td>   84.784</td> <td> 0.000</td> <td>    0.330</td> <td>    0.346</td>\n",
       "</tr>\n",
       "<tr>\n",
       "  <th>x1</th>    <td>   -0.0036</td> <td>    0.002</td> <td>   -1.837</td> <td> 0.066</td> <td>   -0.007</td> <td>    0.000</td>\n",
       "</tr>\n",
       "</table>\n",
       "<table class=\"simpletable\">\n",
       "<tr>\n",
       "  <th>Omnibus:</th>       <td>48.865</td> <th>  Durbin-Watson:     </th> <td>   1.978</td>\n",
       "</tr>\n",
       "<tr>\n",
       "  <th>Prob(Omnibus):</th> <td> 0.000</td> <th>  Jarque-Bera (JB):  </th> <td>  41.852</td>\n",
       "</tr>\n",
       "<tr>\n",
       "  <th>Skew:</th>          <td>-0.203</td> <th>  Prob(JB):          </th> <td>8.16e-10</td>\n",
       "</tr>\n",
       "<tr>\n",
       "  <th>Kurtosis:</th>      <td> 2.663</td> <th>  Cond. No.          </th> <td>    6.79</td>\n",
       "</tr>\n",
       "</table><br/><br/>Warnings:<br/>[1] Standard Errors assume that the covariance matrix of the errors is correctly specified."
      ],
      "text/plain": [
       "<class 'statsmodels.iolib.summary.Summary'>\n",
       "\"\"\"\n",
       "                            OLS Regression Results                            \n",
       "==============================================================================\n",
       "Dep. Variable:                      y   R-squared:                       0.001\n",
       "Model:                            OLS   Adj. R-squared:                  0.001\n",
       "Method:                 Least Squares   F-statistic:                     3.375\n",
       "Date:                Mon, 23 Sep 2019   Prob (F-statistic):             0.0663\n",
       "Time:                        15:49:18   Log-Likelihood:                 3687.6\n",
       "No. Observations:                3600   AIC:                            -7371.\n",
       "Df Residuals:                    3598   BIC:                            -7359.\n",
       "Df Model:                           1                                         \n",
       "Covariance Type:            nonrobust                                         \n",
       "==============================================================================\n",
       "                 coef    std err          t      P>|t|      [0.025      0.975]\n",
       "------------------------------------------------------------------------------\n",
       "const          0.3378      0.004     84.784      0.000       0.330       0.346\n",
       "x1            -0.0036      0.002     -1.837      0.066      -0.007       0.000\n",
       "==============================================================================\n",
       "Omnibus:                       48.865   Durbin-Watson:                   1.978\n",
       "Prob(Omnibus):                  0.000   Jarque-Bera (JB):               41.852\n",
       "Skew:                          -0.203   Prob(JB):                     8.16e-10\n",
       "Kurtosis:                       2.663   Cond. No.                         6.79\n",
       "==============================================================================\n",
       "\n",
       "Warnings:\n",
       "[1] Standard Errors assume that the covariance matrix of the errors is correctly specified.\n",
       "\"\"\""
      ]
     },
     "execution_count": 47,
     "metadata": {},
     "output_type": "execute_result"
    }
   ],
   "source": [
    "X = sm.add_constant(al_les_nclust['Hops'].values.reshape(-1, 1))\n",
    "y = al_les_nclust['Alignment'].values\n",
    "mod = sm.OLS(y, X)\n",
    "res = mod.fit()\n",
    "res.summary()"
   ]
  },
  {
   "cell_type": "code",
   "execution_count": null,
   "metadata": {},
   "outputs": [],
   "source": []
  }
 ],
 "metadata": {
  "kernelspec": {
   "display_name": "Python 3",
   "language": "python",
   "name": "python3"
  },
  "language_info": {
   "codemirror_mode": {
    "name": "ipython",
    "version": 3
   },
   "file_extension": ".py",
   "mimetype": "text/x-python",
   "name": "python",
   "nbconvert_exporter": "python",
   "pygments_lexer": "ipython3",
   "version": "3.7.3"
  }
 },
 "nbformat": 4,
 "nbformat_minor": 2
}
